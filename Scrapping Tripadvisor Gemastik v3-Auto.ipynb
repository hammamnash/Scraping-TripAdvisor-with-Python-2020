{
 "cells": [
  {
   "cell_type": "markdown",
   "metadata": {
    "colab_type": "text",
    "id": "E2XB_l-Hgzq_"
   },
   "source": [
    "# Scraping TripAdvisor with Selenium 2020"
   ]
  },
  {
   "source": [
    "How to scrape TripAdvisor Multiple Hotels OR Attraction reviews with Selenium."
   ],
   "cell_type": "markdown",
   "metadata": {
    "colab_type": "text",
    "id": "vZPgpRl5g2e2"
   }
  },
  {
   "source": [],
   "cell_type": "markdown",
   "metadata": {}
  },
  {
   "cell_type": "code",
   "execution_count": 1,
   "metadata": {
    "colab": {},
    "colab_type": "code",
    "id": "9S4CiOh3RzFW"
   },
   "outputs": [],
   "source": [
    "# Import Library\n",
    "import csv\n",
    "import time\n",
    "from selenium import webdriver\n",
    "from selenium.common.exceptions import NoSuchElementException"
   ]
  },
  {
   "cell_type": "code",
   "execution_count": 2,
   "metadata": {
    "colab": {},
    "colab_type": "code",
    "id": "18nn6eW_s-fV"
   },
   "outputs": [],
   "source": [
    "# Function to check if the button is on the page, to avoid miss-click problem\n",
    "def check_exists_by_xpath(xpath):\n",
    "    try:\n",
    "        driver.find_element_by_xpath(xpath)\n",
    "    except NoSuchElementException:\n",
    "        return False\n",
    "    return True"
   ]
  },
  {
   "cell_type": "code",
   "execution_count": 3,
   "metadata": {
    "colab": {},
    "colab_type": "code",
    "id": "iCi2oSdInRkC"
   },
   "outputs": [],
   "source": [
    "# Create URL list of Hotels OR Attraction (choose only one)\n",
    "wisata = [\n",
    "    \"https://www.tripadvisor.com/Attraction_Review-g297733-d386938-Reviews-Mount_Rinjani-Lombok_West_Nusa_Tenggara.html \",\n",
    "    \"https://www.tripadvisor.com/Attraction_Review-g664666-d3295980-Reviews-Gili_Trawangan_Island-Gili_Trawangan_Gili_Islands_Pemenang_Lombok_West_Nusa_Tengg.html \",\n",
    "    \"https://www.tripadvisor.com/Attraction_Review-g297733-d3257784-Reviews-Tanjung_Aan_Beach-Lombok_West_Nusa_Tenggara.html \",\n",
    "    \"https://www.tripadvisor.com/Attraction_Review-g3475390-d1723009-Reviews-Sendang_Gile_and_Tiu_Kelep_Waterfall-Senaru_Lombok_West_Nusa_Tenggara.html \",\n",
    "    \"https://www.tripadvisor.com/Attraction_Review-g2147811-d6894350-Reviews-Selong_Belanak_Beach-Selong_Belanak_Lombok_West_Nusa_Tenggara.html \",\n",
    "    \"https://www.tripadvisor.com/Attraction_Review-g297734-d10399767-Reviews-Lombok_Epicentrum_Mall-Mataram_Lombok_West_Nusa_Tenggara.html \"\n",
    "    ]"
   ]
  },
  {
   "cell_type": "code",
   "execution_count": 4,
   "metadata": {
    "colab": {},
    "colab_type": "code",
    "id": "5QJGFjzOMbfN"
   },
   "outputs": [],
   "source": [
    "# Add filter rating if you want, just leave it commented if dont\n",
    "# time.sleep(2)\n",
    "# driver.find_element_by_xpath('//label[@for=\"ReviewRatingFilter_5\"]').click()\n",
    "# driver.find_element_by_xpath('//label[@for=\"ReviewRatingFilter_4\"]').click()\n",
    "# time.sleep(2)"
   ]
  },
  {
   "cell_type": "code",
   "execution_count": null,
   "metadata": {},
   "outputs": [],
   "source": [
    "# Looping  for each url on list\n",
    "for x in wisata :\n",
    "    \n",
    "    # import the webdriver, chrome driver is recommended\n",
    "    driver = webdriver.Chrome(\"F:\\Downloads\\chromedriver\")\n",
    "    \n",
    "    # insert the tripadvisor's website of one attraction \n",
    "    driver.get(x)\n",
    "    \n",
    "    # open the file to save the review\n",
    "    name = x.split('-')[4]\n",
    "    csvFile = open(\"E:/DATA MINING/data/prefix-%s.csv\" % (name,), 'a', newline='') #Change directory to your destination folder\n",
    "    csvWriter = csv.writer(csvFile)\n",
    "    csvWriter.writerow(['Rating', 'Review'])\n",
    "    \n",
    "    #Looping each pages, make sure the review pages>number in the loop\n",
    "    for i in range(0,50):\n",
    "        #to expand the review \n",
    "        if (check_exists_by_xpath(\"//div[@class='_36B4Vw6t']\")):\n",
    "            driver.find_element_by_xpath(\"//div[@class='_36B4Vw6t']\").click() #if there's error around here, thats either button cant be clicked because didn't already reloaded OR already clicked and become \"Show Less Button\"\n",
    "            time.sleep(3)\n",
    "\n",
    "        container = driver.find_elements_by_xpath(\"//div[@class='Dq9MAugU T870kzTX LnVzGwUB']\") #For Hotel items are using tags \"_2wrUUKlw _3hFEdNs8\"\n",
    "        num_page_items = len(container);\n",
    "\n",
    "        #Looping each review in pages\n",
    "        for j in range(num_page_items):\n",
    "            \n",
    "            # to save the rating\n",
    "            string = container[j].find_element_by_xpath(\".//span[contains(@class, 'ui_bubble_rating bubble_')]\").get_attribute(\"class\")\n",
    "            data = string.split(\"_\")\n",
    "            rating = int(data[3])/10\n",
    "            \n",
    "            # to save review\n",
    "            review = str(container[j].find_element_by_xpath(\".//q[@class='IRsGHoPm']\").text.replace(\"\\n\", \"\").encode(\"ascii\", \"ignore\"))\n",
    "            review_clean = review.split(\"'\")[1]\n",
    "\n",
    "            # to save in a csv file readable the star and the review [Ex: 5,\"I love this place\"]\n",
    "            csvWriter.writerow([rating, review_clean])\n",
    "\n",
    "        # to change the page\n",
    "        if (check_exists_by_xpath('//a[@class=\"ui_button nav next primary \"]')):\n",
    "            driver.find_element_by_xpath('//a[@class=\"ui_button nav next primary \"]').click()\n",
    "        time.sleep(10) #if you have fast internet, you maybe can use smaller number\n",
    "\n",
    "    driver.close()\n",
    "    csvFile.close()\n",
    "    time.sleep(5)"
   ]
  }
 ],
 "metadata": {
  "accelerator": "TPU",
  "colab": {
   "collapsed_sections": [],
   "name": "scraping tripadvisor",
   "provenance": [],
   "version": "0.3.2"
  },
  "kernelspec": {
   "display_name": "Python 3",
   "language": "python",
   "name": "python3"
  },
  "language_info": {
   "codemirror_mode": {
    "name": "ipython",
    "version": 3
   },
   "file_extension": ".py",
   "mimetype": "text/x-python",
   "name": "python",
   "nbconvert_exporter": "python",
   "pygments_lexer": "ipython3",
   "version": "3.7.7"
  }
 },
 "nbformat": 4,
 "nbformat_minor": 1
}